{
 "cells": [
  {
   "cell_type": "code",
   "execution_count": 3,
   "metadata": {
    "id": "KAnoRZwrXZ6m"
   },
   "outputs": [],
   "source": [
    "import numpy as np"
   ]
  },
  {
   "cell_type": "code",
   "execution_count": 4,
   "metadata": {
    "colab": {
     "base_uri": "https://localhost:8080/"
    },
    "id": "kA65qtmEYSMr",
    "outputId": "1b41df4d-d82b-494b-9896-088705d6be02"
   },
   "outputs": [
    {
     "name": "stdout",
     "output_type": "stream",
     "text": [
      "[-0.88973859 -0.50962706  0.24242288 -0.41278082 -0.09601765 -0.10458897\n",
      "  0.35048734  1.23581404 -0.03766339 -0.42161241 -0.82346365 -0.24454025\n",
      " -0.64355789  0.45586851  0.49598854 -1.25347666 -2.10848157  0.6522203\n",
      "  0.67180471  1.43614051 -0.9257663  -0.99271009  0.28577388  0.93857504\n",
      " -1.6003306 ]\n"
     ]
    }
   ],
   "source": [
    "# Question 1:\n",
    "\n",
    "arr = np.array(np.random.normal(0,1,25))\n",
    "print(arr)"
   ]
  },
  {
   "cell_type": "code",
   "execution_count": 5,
   "metadata": {
    "colab": {
     "base_uri": "https://localhost:8080/"
    },
    "id": "VMfhUsXobLIs",
    "outputId": "48c7e496-fd7e-41af-ffb9-2228380a6e35"
   },
   "outputs": [
    {
     "name": "stdout",
     "output_type": "stream",
     "text": [
      "[0.   0.05 0.1  0.15 0.2  0.25 0.3  0.35 0.4  0.45 0.5  0.55 0.6  0.65\n",
      " 0.7  0.75 0.8  0.85 0.9  0.95]\n"
     ]
    }
   ],
   "source": [
    "# Question 2:\n",
    "\n",
    "n = 20\n",
    "arr2 = np.array(np.arange(0,1,1/n))\n",
    "print(arr2)"
   ]
  },
  {
   "cell_type": "code",
   "execution_count": 6,
   "metadata": {
    "colab": {
     "base_uri": "https://localhost:8080/"
    },
    "id": "8RC4sxiQb8Op",
    "outputId": "9bdf4766-1455-4234-aa90-26f9fc935f1f"
   },
   "outputs": [
    {
     "name": "stdout",
     "output_type": "stream",
     "text": [
      "[[ 1  2  3  4  5]\n",
      " [ 6  7  8  9 10]\n",
      " [11 12 13 14 15]\n",
      " [16 17 18 19 20]\n",
      " [21 22 23 24 25]]\n",
      "Standard deviation of whole matrix is:\n",
      " 7.211102550927978\n",
      "Standard deviation of columns of matrix is:\n",
      " [7.07106781 7.07106781 7.07106781 7.07106781 7.07106781]\n",
      "Standard deviation of rows of matrix is:\n",
      " [1.41421356 1.41421356 1.41421356 1.41421356 1.41421356]\n",
      "Sum of all columns is:\n",
      " [55 60 65 70 75]\n"
     ]
    }
   ],
   "source": [
    "# Question 3:\n",
    "n = 5\n",
    "arr3 = np.array([[n*j+i+1 for i in range(n)] for j in range(n)])\n",
    "print(arr3)\n",
    "\n",
    "# 1:\n",
    "std_dev = np.std([arr3])\n",
    "print(\"Standard deviation of whole matrix is:\\n\",std_dev)\n",
    "std_c = np.std(arr3,axis=0)\n",
    "std_r = np.std(arr3,axis=1)\n",
    "print(\"Standard deviation of columns of matrix is:\\n\", std_c)\n",
    "print(\"Standard deviation of rows of matrix is:\\n\", std_r)\n",
    "\n",
    "# 2:\n",
    "print(\"Sum of all columns is:\\n\", np.sum(arr3,axis=0))"
   ]
  },
  {
   "cell_type": "code",
   "execution_count": 7,
   "metadata": {
    "colab": {
     "base_uri": "https://localhost:8080/"
    },
    "id": "1YyhrpbWlabc",
    "outputId": "a0d0069e-5475-4c75-bfec-e1dfa39cce15"
   },
   "outputs": [
    {
     "name": "stdout",
     "output_type": "stream",
     "text": [
      "[[ 0  1  2  3]\n",
      " [ 4  5  6  7]\n",
      " [ 8  9 10 11]]\n",
      "Diagonal of X is:\n",
      " [ 0  5 10]\n"
     ]
    }
   ],
   "source": [
    "# Question 4:\n",
    "\n",
    "X = np.array([[ 0, 1, 2, 3], [ 4, 5, 6, 7], [ 8, 9, 10, 11]])\n",
    "print(X)\n",
    "\n",
    "d = np.diagonal(X)\n",
    "print(\"Diagonal of X is:\\n\",d)"
   ]
  },
  {
   "cell_type": "code",
   "execution_count": 8,
   "metadata": {
    "colab": {
     "base_uri": "https://localhost:8080/"
    },
    "id": "2QdmUJpWl0L6",
    "outputId": "1268ab2e-65cb-4200-8e2a-4804635c25be"
   },
   "outputs": [
    {
     "name": "stdout",
     "output_type": "stream",
     "text": [
      "[[1 0 0 0]\n",
      " [0 2 0 0]\n",
      " [0 0 3 0]\n",
      " [0 0 0 4]]\n"
     ]
    }
   ],
   "source": [
    "# Question 5:\n",
    "\n",
    "p = np.diagflat([1, 2, 3, 4])\n",
    "print(p)"
   ]
  },
  {
   "cell_type": "code",
   "execution_count": 9,
   "metadata": {
    "colab": {
     "base_uri": "https://localhost:8080/"
    },
    "id": "YHxQQQfNmTn9",
    "outputId": "d8ae6156-5453-4276-a97c-7974cff23494"
   },
   "outputs": [
    {
     "name": "stdout",
     "output_type": "stream",
     "text": [
      "[[ 1  2  3]\n",
      " [ 4  5  6]\n",
      " [ 7  8  9]\n",
      " [10 11 12]]\n",
      "[[ 1  2  3]\n",
      " [ 4  5  6]\n",
      " [ 0  8  9]\n",
      " [ 0  0 12]]\n"
     ]
    }
   ],
   "source": [
    "# Question 6:\n",
    "\n",
    "array = np.array([[ 1, 2, 3], [ 4, 5, 6], [ 7, 8, 9], [ 10, 11, 12]])\n",
    "print(array)\n",
    "\n",
    "array = np.triu(array,-1)\n",
    "print(array)"
   ]
  },
  {
   "cell_type": "code",
   "execution_count": 10,
   "metadata": {
    "colab": {
     "base_uri": "https://localhost:8080/"
    },
    "id": "5237apTfmuus",
    "outputId": "fc2f48e3-4559-4ceb-cb70-8305f6aea982"
   },
   "outputs": [
    {
     "name": "stdout",
     "output_type": "stream",
     "text": [
      "[[100 110]\n",
      " [120 130]\n",
      " [140 150]\n",
      " [160 170]\n",
      " [180 190]]\n"
     ]
    }
   ],
   "source": [
    "# Question 7:\n",
    "\n",
    "a = np.arange(100,200,10)\n",
    "a = a.reshape(5,2)\n",
    "print(a)"
   ]
  },
  {
   "cell_type": "code",
   "execution_count": 11,
   "metadata": {
    "colab": {
     "base_uri": "https://localhost:8080/"
    },
    "id": "hWQc39u5nvJQ",
    "outputId": "9799c337-5d80-4f84-c439-53aec92749bb"
   },
   "outputs": [
    {
     "name": "stdout",
     "output_type": "stream",
     "text": [
      "[[ 1  2  3  4  5]\n",
      " [ 6  7  8  9 10]\n",
      " [11 12 13 14 15]\n",
      " [16 17 18 19 20]\n",
      " [21 22 23 24 25]]\n",
      "True\n",
      "False\n"
     ]
    }
   ],
   "source": [
    "# Question 8:\n",
    "\n",
    "def check(value, array):\n",
    "  if value in array:\n",
    "    return True\n",
    "  return False\n",
    "\n",
    "print(arr3)\n",
    "print(check(15,arr3))\n",
    "print(check(27,arr3))"
   ]
  },
  {
   "cell_type": "code",
   "execution_count": 12,
   "metadata": {
    "colab": {
     "base_uri": "https://localhost:8080/"
    },
    "id": "LtZGtCS_pAtP",
    "outputId": "f318f00f-90aa-4c8b-8863-2b25f70ffd6b"
   },
   "outputs": [
    {
     "name": "stdout",
     "output_type": "stream",
     "text": [
      "[[ 1  2  3  4  5]\n",
      " [ 6  7  8  9 10]\n",
      " [11 12 13 14 15]\n",
      " [16 17 18 19 20]\n",
      " [21 22 23 24 25]]\n",
      "Sum of diagonal elements is: 65\n"
     ]
    }
   ],
   "source": [
    "# Question 9:\n",
    "\n",
    "def diagonal_sum(array):\n",
    "  return np.diagonal(array).sum()\n",
    "\n",
    "print(arr3)\n",
    "print(\"Sum of diagonal elements is:\" ,diagonal_sum(arr3))"
   ]
  },
  {
   "cell_type": "code",
   "execution_count": 13,
   "metadata": {
    "colab": {
     "base_uri": "https://localhost:8080/"
    },
    "id": "4GnDW0_ppa2c",
    "outputId": "64781298-9aac-4a2e-be11-d96fb2d3bc93"
   },
   "outputs": [
    {
     "name": "stdout",
     "output_type": "stream",
     "text": [
      "[[1 2 3]\n",
      " [4 5 6]\n",
      " [0 8 9]]\n",
      "Determinant of above matrix is:  20.99999999999999\n"
     ]
    }
   ],
   "source": [
    "# Question 10:\n",
    "\n",
    "def determinant(array):\n",
    "  return np.linalg.det(array)\n",
    "\n",
    "array123 = np.array([[ 1, 2, 3], [ 4, 5, 6], [ 0, 8, 9]])\n",
    "print(array123)\n",
    "print(\"Determinant of above matrix is: \", determinant(array123))"
   ]
  },
  {
   "cell_type": "code",
   "execution_count": 14,
   "metadata": {
    "colab": {
     "base_uri": "https://localhost:8080/"
    },
    "id": "rmUWOe5dq-7f",
    "outputId": "24ab3cbc-74aa-45e0-9593-32980dc17dc9"
   },
   "outputs": [
    {
     "name": "stdout",
     "output_type": "stream",
     "text": [
      "Greater: [False False False False False]\n",
      "Greater Equal: [False  True False  True False]\n",
      "Less: [ True False  True False  True]\n",
      "Less Equal: [ True  True  True  True  True]\n"
     ]
    }
   ],
   "source": [
    "# Question 11:\n",
    "\n",
    "arr1 = np.array([1, 2, 3, 4, 5])\n",
    "\n",
    "arr2 = np.array([2, 2, 4, 4, 6])\n",
    "\n",
    "greater = np.greater(arr1, arr2)\n",
    "print(\"Greater:\", greater)\n",
    "\n",
    "greater_equal = np.greater_equal(arr1, arr2)\n",
    "print(\"Greater Equal:\", greater_equal)\n",
    "\n",
    "less = np.less(arr1, arr2)\n",
    "print(\"Less:\", less)\n",
    "\n",
    "less_equal = np.less_equal(arr1, arr2)\n",
    "print(\"Less Equal:\", less_equal)\n"
   ]
  },
  {
   "cell_type": "code",
   "execution_count": 15,
   "metadata": {
    "colab": {
     "base_uri": "https://localhost:8080/"
    },
    "id": "dib0Kpqer6X1",
    "outputId": "2f66bc00-2288-4a09-87cb-8f90fceaa242"
   },
   "outputs": [
    {
     "name": "stdout",
     "output_type": "stream",
     "text": [
      "[[0. 0. 0. 0. 0. 0. 0. 0. 0. 0.]\n",
      " [0. 0. 0. 0. 0. 0. 0. 0. 0. 0.]\n",
      " [0. 0. 0. 0. 0. 0. 0. 0. 0. 0.]\n",
      " [0. 0. 0. 0. 0. 0. 0. 0. 0. 0.]\n",
      " [0. 0. 0. 0. 0. 0. 0. 0. 0. 0.]\n",
      " [0. 0. 0. 0. 0. 0. 0. 0. 0. 0.]\n",
      " [0. 0. 0. 0. 0. 0. 0. 0. 0. 0.]\n",
      " [0. 0. 0. 0. 0. 0. 0. 0. 0. 0.]\n",
      " [0. 0. 0. 0. 0. 0. 0. 0. 0. 0.]\n",
      " [0. 0. 0. 0. 0. 0. 0. 0. 0. 0.]]\n",
      "\n",
      "Changing border enteries to 1:\n",
      "[[1. 1. 1. 1. 1. 1. 1. 1. 1. 1.]\n",
      " [1. 0. 0. 0. 0. 0. 0. 0. 0. 1.]\n",
      " [1. 0. 0. 0. 0. 0. 0. 0. 0. 1.]\n",
      " [1. 0. 0. 0. 0. 0. 0. 0. 0. 1.]\n",
      " [1. 0. 0. 0. 0. 0. 0. 0. 0. 1.]\n",
      " [1. 0. 0. 0. 0. 0. 0. 0. 0. 1.]\n",
      " [1. 0. 0. 0. 0. 0. 0. 0. 0. 1.]\n",
      " [1. 0. 0. 0. 0. 0. 0. 0. 0. 1.]\n",
      " [1. 0. 0. 0. 0. 0. 0. 0. 0. 1.]\n",
      " [1. 1. 1. 1. 1. 1. 1. 1. 1. 1.]]\n"
     ]
    }
   ],
   "source": [
    "# Question 12:\n",
    "\n",
    "array = np.zeros((10,10))\n",
    "print(array)\n",
    "\n",
    "\n",
    "def border(array):\n",
    "  for i in range(np.shape(array)[0]):\n",
    "    for j in range(np.shape(array)[1]):\n",
    "      if i in (0,np.shape(array)[0]-1) or j in (0,np.shape(array)[1]-1):\n",
    "        array[i][j] = 1\n",
    "  return array\n",
    "\n",
    "print(\"\\nChanging border enteries to 1:\")\n",
    "print(border(array))"
   ]
  },
  {
   "cell_type": "code",
   "execution_count": 16,
   "metadata": {
    "colab": {
     "base_uri": "https://localhost:8080/"
    },
    "id": "izollSl1uasq",
    "outputId": "bb8023b4-e690-40c8-da27-82a4c74be680"
   },
   "outputs": [
    {
     "name": "stdout",
     "output_type": "stream",
     "text": [
      "[[72 86 69 74 64 64 70 73 95 71]\n",
      " [61 72 64 71 95 77 69 87 65 86]\n",
      " [75 95 59 96 99 88 57 72 60 50]\n",
      " [55 60 82 73 67 97 52 89 71 66]\n",
      " [81 62 76 87 95 76 69 97 75 82]]\n"
     ]
    }
   ],
   "source": [
    "# Question 1:\n",
    "\n",
    "a = np.random.randint(50, 100, size=(5, 10))\n",
    "print(a)"
   ]
  },
  {
   "cell_type": "code",
   "execution_count": 17,
   "metadata": {
    "colab": {
     "base_uri": "https://localhost:8080/"
    },
    "id": "oTnQYhMbxsS5",
    "outputId": "45688e28-3c87-411c-e31e-762b01a7b7fa"
   },
   "outputs": [
    {
     "name": "stdout",
     "output_type": "stream",
     "text": [
      "[[ 81.84  86.46  75.84  92.83  89.6   98.99  79.01  61.15  92.58  68.87]\n",
      " [ 55.7   50.15  86.3   76.08  53.3   82.97  58.28 100.38  54.86  86.11]\n",
      " [ 75.35  65.03  84.6   54.56  70.96  80.39  69.27  73.6   77.53  60.88]\n",
      " [ 66.61  93.1   53.4   61.1   91.6   67.16  61.09 100.92  63.42  94.49]\n",
      " [ 86.29  60.2   72.36  69.87  82.68  67.56  55.87  81.69 100.52  91.14]]\n"
     ]
    }
   ],
   "source": [
    "# Question 2:\n",
    "\n",
    "b = np.random.uniform(50, 101, size=(5, 10)).round(2)\n",
    "print(b)\n"
   ]
  },
  {
   "cell_type": "code",
   "execution_count": 18,
   "metadata": {
    "colab": {
     "base_uri": "https://localhost:8080/"
    },
    "id": "BhI7Hm7dz5mu",
    "outputId": "02282a4e-a507-443c-d242-38b7999b70d1"
   },
   "outputs": [
    {
     "name": "stdout",
     "output_type": "stream",
     "text": [
      "[ 4  8 12 16 20 24 28 32 36 40 44 48 52 56 60 64 68 72 76 80 84 88 92 96]\n"
     ]
    }
   ],
   "source": [
    "# Question 3:\n",
    "\n",
    "array_i = np.array([i for i in range(2,100) if 2**i % 10 == 6])\n",
    "print(array_i)"
   ]
  },
  {
   "cell_type": "code",
   "execution_count": 19,
   "metadata": {
    "colab": {
     "base_uri": "https://localhost:8080/"
    },
    "id": "lTupABNb0gr2",
    "outputId": "909e34c7-3a2a-47d8-e337-e260b28089c7"
   },
   "outputs": [
    {
     "name": "stdout",
     "output_type": "stream",
     "text": [
      "[   2    4    8   16   32   64  128  256  512 1024]\n"
     ]
    }
   ],
   "source": [
    "# Question 4:\n",
    "\n",
    "array_2_powers = np.array([2**i for i in range(1,11)])\n",
    "print(array_2_powers)\n"
   ]
  },
  {
   "cell_type": "code",
   "execution_count": 20,
   "metadata": {
    "colab": {
     "base_uri": "https://localhost:8080/"
    },
    "id": "1xmk0yA-1AF1",
    "outputId": "539764ba-2929-4240-9771-17ed7dee767c"
   },
   "outputs": [
    {
     "name": "stdout",
     "output_type": "stream",
     "text": [
      "[[ 0  1  2  3  4  5]\n",
      " [10 11 12 13 14 15]\n",
      " [20 21 22 23 24 25]\n",
      " [30 31 32 33 34 35]\n",
      " [40 41 42 43 44 45]\n",
      " [50 51 52 53 54 55]]\n",
      "\n",
      "1:\n",
      "3 4\n",
      "\n",
      "2:\n",
      "[ 2 12 22 32 42 52]\n",
      "\n",
      "3:\n",
      "[[20 21 22 23 24 25]\n",
      " [40 41 42 43 44 45]]\n",
      "\n",
      "4:\n",
      "33\n",
      "\n",
      "5:\n",
      "[[44 45]\n",
      " [54 55]]\n"
     ]
    }
   ],
   "source": [
    "# Question 5:\n",
    "\n",
    "arr = np.array([[10*j+i for i in range(6)] for j in range(6)])\n",
    "print(arr)\n",
    "\n",
    "print(\"\\n1:\")\n",
    "print(arr[0][3],arr[0][4])\n",
    "\n",
    "print(\"\\n2:\")\n",
    "col = np.array([arr[i][2] for i in range(6)])\n",
    "print(col)\n",
    "\n",
    "print(\"\\n3:\")\n",
    "two = np.array([arr[2],arr[4]])\n",
    "#two = np.array([[arr[i][j] for j in range(0,6,2)] for i in (2,4)])\n",
    "print(two)\n",
    "\n",
    "print(\"\\n4:\")\n",
    "print(arr[3][3])\n",
    "\n",
    "print(\"\\n5:\")\n",
    "new = np.array([[arr[i][j] for j in (4,5)] for i in (4,5)])\n",
    "print(new)\n"
   ]
  }
 ],
 "metadata": {
  "colab": {
   "provenance": []
  },
  "kernelspec": {
   "display_name": "Python 3 (ipykernel)",
   "language": "python",
   "name": "python3"
  },
  "language_info": {
   "codemirror_mode": {
    "name": "ipython",
    "version": 3
   },
   "file_extension": ".py",
   "mimetype": "text/x-python",
   "name": "python",
   "nbconvert_exporter": "python",
   "pygments_lexer": "ipython3",
   "version": "3.9.13"
  }
 },
 "nbformat": 4,
 "nbformat_minor": 1
}
