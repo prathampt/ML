{
 "cells": [
  {
   "cell_type": "code",
   "execution_count": 64,
   "metadata": {
    "id": "-VYlyUR9XWk4"
   },
   "outputs": [],
   "source": [
    "import pandas as pd"
   ]
  },
  {
   "cell_type": "code",
   "execution_count": 65,
   "metadata": {
    "colab": {
     "base_uri": "https://localhost:8080/"
    },
    "id": "5223tZjvYrli",
    "outputId": "ef6d04c8-e2e4-4dbc-e347-f80bef45be46"
   },
   "outputs": [
    {
     "name": "stdout",
     "output_type": "stream",
     "text": [
      "0    2\n",
      "1    4\n",
      "2    5\n",
      "3    6\n",
      "4    9\n",
      "dtype: int64\n",
      "0    4\n",
      "1    6\n",
      "dtype: int64\n",
      "0    1\n",
      "1    2\n",
      "2    2\n",
      "3    3\n",
      "4    4\n",
      "dtype: int64\n"
     ]
    }
   ],
   "source": [
    "# Question 1\n",
    "list = [2,4,5,6,9]\n",
    "\n",
    "ser = pd.Series(list)\n",
    "print(ser)\n",
    "\n",
    "ser_odd = pd.Series(list[1::2])\n",
    "print(ser_odd)\n",
    "\n",
    "new_ser = pd.Series(map(lambda x: int(x/2),list))\n",
    "print(new_ser)"
   ]
  },
  {
   "cell_type": "code",
   "execution_count": 66,
   "metadata": {
    "colab": {
     "base_uri": "https://localhost:8080/"
    },
    "id": "QvxdZjzPcbIV",
    "outputId": "6b60e922-8687-48f0-ef4e-3efaf6b99991"
   },
   "outputs": [
    {
     "name": "stdout",
     "output_type": "stream",
     "text": [
      "0    2021-05-01\n",
      "1    2021-05-02\n",
      "2    2021-05-03\n",
      "3    2021-05-04\n",
      "4    2021-05-05\n",
      "5    2021-05-06\n",
      "6    2021-05-07\n",
      "7    2021-05-08\n",
      "8    2021-05-09\n",
      "9    2021-05-10\n",
      "10   2021-05-11\n",
      "11   2021-05-12\n",
      "dtype: datetime64[ns]\n"
     ]
    }
   ],
   "source": [
    "# Question 2\n",
    "\n",
    "dates = pd.date_range(\"1st May, 2021\", periods=12, freq='D')\n",
    "dates_series = pd.Series(dates)\n",
    "print(dates_series)"
   ]
  },
  {
   "cell_type": "code",
   "execution_count": 67,
   "metadata": {
    "colab": {
     "base_uri": "https://localhost:8080/"
    },
    "id": "_oEJZbapeclG",
    "outputId": "39cbcb7b-31ff-4cdf-9dc4-34d02ef1f8b9"
   },
   "outputs": [
    {
     "name": "stdout",
     "output_type": "stream",
     "text": [
      "     name  age         occ\n",
      "0   Vinay   22    engineer\n",
      "1  Kushal   25      doctor\n",
      "2    Aman   24  accountant\n"
     ]
    }
   ],
   "source": [
    "# Question 3\n",
    "\n",
    "dictionary = {'name': ['Vinay', 'Kushal', 'Aman'],\n",
    " 'age' : [22, 25, 24],\n",
    " 'occ' : ['engineer', 'doctor', 'accountant']}\n",
    "\n",
    "df = pd.DataFrame(dictionary)\n",
    "print(df)"
   ]
  },
  {
   "cell_type": "code",
   "execution_count": 68,
   "metadata": {
    "colab": {
     "base_uri": "https://localhost:8080/"
    },
    "id": "Sl4ZRC7UfU_j",
    "outputId": "35469674-3a43-4890-f5ba-3e1d91b264cd"
   },
   "outputs": [
    {
     "name": "stdout",
     "output_type": "stream",
     "text": [
      "   0       1   2\n",
      "0  2  Vishal  22\n",
      "1  1  Kushal  25\n",
      "2  1    Aman  24\n",
      "   0       1   2\n",
      "0  2  Vishal  22\n",
      "1  1  Kushal  25\n",
      "2  1    Aman  24\n",
      "   0       1   2\n",
      "5  2  Vishal  22\n",
      "4  1  Kushal  25\n",
      "7  1    Aman  24\n"
     ]
    }
   ],
   "source": [
    "# Question 4\n",
    "\n",
    "lists = [[2, 'Vishal', 22],\n",
    " [1, 'Kushal', 25],\n",
    " [1, 'Aman', 24]]\n",
    "\n",
    "df = pd.DataFrame(lists)\n",
    "print(df)\n",
    "\n",
    "df.to_csv(r\"lists.csv\", index=False)\n",
    "\n",
    "df2 = pd.read_csv(\"lists.csv\")\n",
    "print(df2)\n",
    "\n",
    "df2.index = [5,4,7]\n",
    "print(df2)\n"
   ]
  },
  {
   "cell_type": "code",
   "execution_count": 69,
   "metadata": {
    "colab": {
     "base_uri": "https://localhost:8080/"
    },
    "id": "QPMb9T9kisKW",
    "outputId": "15836bc0-953b-4806-ec71-20fbed0768ec"
   },
   "outputs": [
    {
     "name": "stdout",
     "output_type": "stream",
     "text": [
      "   0       1   2\n",
      "4  1  Kushal  25\n",
      "5  2  Vishal  22\n",
      "7  1    Aman  24\n"
     ]
    }
   ],
   "source": [
    "# Question 5\n",
    "\n",
    "df2.sort_index(inplace=True)\n",
    "print(df2)"
   ]
  },
  {
   "cell_type": "code",
   "execution_count": 70,
   "metadata": {
    "colab": {
     "base_uri": "https://localhost:8080/"
    },
    "id": "aD1Al8_qkf-9",
    "outputId": "2bebe58c-8c8a-4085-810f-b1c7c504c876"
   },
   "outputs": [
    {
     "name": "stdout",
     "output_type": "stream",
     "text": [
      "RangeIndex(start=0, stop=3, step=1)\n",
      "   0       1   2\n",
      "2  1    Aman  24\n",
      "1  1  Kushal  25\n",
      "0  2  Vishal  22\n"
     ]
    }
   ],
   "source": [
    "# Question 6\n",
    "\n",
    "print(df.columns)\n",
    "df.columns = [\"0\",\"1\",\"2\"]\n",
    "df4 = df.sort_values(by=[\"0\",\"2\"]) # sorting by using multiple columns...\n",
    "print(df4)"
   ]
  },
  {
   "cell_type": "code",
   "execution_count": 71,
   "metadata": {
    "colab": {
     "base_uri": "https://localhost:8080/"
    },
    "id": "4c-Tv3rNlQr2",
    "outputId": "bd25e025-399f-46fe-9702-bdea26a6defa"
   },
   "outputs": [
    {
     "name": "stdout",
     "output_type": "stream",
     "text": [
      "   0       1   2\n",
      "4  1  Kushal  25\n",
      "5  2  Vishal  22\n",
      "7  1    Aman  24\n",
      "   0       1   2\n",
      "0  1  Kushal  25\n",
      "1  2  Vishal  22\n",
      "2  1    Aman  24\n"
     ]
    }
   ],
   "source": [
    "# Question 7\n",
    "\n",
    "print(df2)\n",
    "df2.reset_index(inplace=True, drop=True)\n",
    "print(df2)"
   ]
  },
  {
   "cell_type": "code",
   "execution_count": 72,
   "metadata": {
    "colab": {
     "base_uri": "https://localhost:8080/"
    },
    "id": "UHar0FujorTk",
    "outputId": "f537c378-9926-44cb-a557-5f2f672c86f1"
   },
   "outputs": [
    {
     "name": "stdout",
     "output_type": "stream",
     "text": [
      "   0       1   2\n",
      "0  2  Vishal  22\n",
      "1  1  Kushal  25\n",
      "2  1    Aman  24\n",
      "   0       1   2\n",
      "0  2  Vishal  22\n",
      "1  1  Kushal  25\n"
     ]
    }
   ],
   "source": [
    "# Question 8\n",
    "print(df)\n",
    "df_2rows = df.loc[0:1]\n",
    "print(df_2rows)"
   ]
  },
  {
   "cell_type": "code",
   "execution_count": 73,
   "metadata": {
    "colab": {
     "base_uri": "https://localhost:8080/"
    },
    "id": "CYqhEMRKp7XV",
    "outputId": "6204429c-3951-4198-e7c0-f307bddc341d"
   },
   "outputs": [
    {
     "name": "stdout",
     "output_type": "stream",
     "text": [
      "   0       1   2\n",
      "0  2  Vishal  22\n",
      "1  1  Kushal  25\n",
      "2  1    Aman  24\n",
      "   0       1   2\n",
      "1  1  Kushal  25\n",
      "2  1    Aman  24\n"
     ]
    }
   ],
   "source": [
    "# Question 9\n",
    "\n",
    "print(df)\n",
    "df_condition = df.loc[df['2']>23]\n",
    "print(df_condition)"
   ]
  },
  {
   "cell_type": "code",
   "execution_count": 74,
   "metadata": {
    "colab": {
     "base_uri": "https://localhost:8080/"
    },
    "id": "wpF4jIE0qmzU",
    "outputId": "f84e8e0e-1b81-4746-ec52-9e29869349ad"
   },
   "outputs": [
    {
     "name": "stdout",
     "output_type": "stream",
     "text": [
      "     name       occ  salary  experience\n",
      "0   Vinay  engineer   60000        10.0\n",
      "1  Kushal    doctor   70000         NaN\n",
      "2    Aman  engineer   50000         7.0\n",
      "3   Rahul    doctor   60000         NaN\n",
      "4  Ramesh    doctor   65000         9.0\n",
      "Average salary per occupation is:\n",
      "  occ\n",
      "doctor      65000.0\n",
      "engineer    55000.0\n",
      "Name: salary, dtype: float64\n",
      "     name       occ  salary  experience\n",
      "0   Vinay  engineer   60000        10.0\n",
      "1  Kushal    doctor   70000         0.0\n",
      "2    Aman  engineer   50000         7.0\n",
      "3   Rahul    doctor   60000         0.0\n",
      "4  Ramesh    doctor   65000         9.0\n"
     ]
    }
   ],
   "source": [
    "# Question 10\n",
    "\n",
    "dict = {\n",
    "    \"name\":[ 'Vinay', 'Kushal', 'Aman', 'Rahul', 'Ramesh'],\n",
    "    \"occ\":['engineer','doctor','engineer','doctor','doctor'],\n",
    "    \"salary\":[60000,70000,50000,60000,65000],\n",
    "    \"experience\": [10,None,7,None,9]\n",
    "}\n",
    "\n",
    "dataFrame = pd.DataFrame(dict)\n",
    "print(dataFrame)\n",
    "\n",
    "\n",
    "new_df = dataFrame.groupby('occ')\n",
    "print(\"Average salary per occupation is:\\n \", new_df['salary'].mean())\n",
    "\n",
    "# Filling empty data with zeros...\n",
    "dataFrame.fillna(0,inplace=True)\n",
    "print(dataFrame)"
   ]
  }
 ],
 "metadata": {
  "colab": {
   "provenance": []
  },
  "kernelspec": {
   "display_name": "Python 3 (ipykernel)",
   "language": "python",
   "name": "python3"
  },
  "language_info": {
   "codemirror_mode": {
    "name": "ipython",
    "version": 3
   },
   "file_extension": ".py",
   "mimetype": "text/x-python",
   "name": "python",
   "nbconvert_exporter": "python",
   "pygments_lexer": "ipython3",
   "version": "3.9.13"
  }
 },
 "nbformat": 4,
 "nbformat_minor": 1
}
